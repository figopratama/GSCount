{
 "cells": [
  {
   "cell_type": "code",
   "execution_count": null,
   "id": "96ba7002-63ae-4d9f-84f4-3c446eb96055",
   "metadata": {},
   "outputs": [],
   "source": [
    "import os, sys\n",
    "import django\n",
    "PROJECTPATH = 'C:/django/myworld'\n",
    "sys.path.insert(0, PROJECTPATH)\n",
    "os.environ.setdefault(\"DJANGO_SETTINGS_MODULE\", \"gscount.settings\")\n",
    "os.environ[\"DJANGO_ALLOW_ASYNC_UNSAFE\"] = \"true\"\n",
    "os.chdir(PROJECTPATH)\n",
    "django.setup()"
   ]
  },
  {
   "cell_type": "code",
   "execution_count": null,
   "id": "ce8530ab-91d7-4c4e-9ccb-35df0b41a354",
   "metadata": {},
   "outputs": [],
   "source": [
    "from crm.models import Date\n",
    "Clicks.objects.count()"
   ]
  },
  {
   "cell_type": "code",
   "execution_count": null,
   "id": "c524f3dd-bdfa-4086-b4c8-2644b9718403",
   "metadata": {},
   "outputs": [],
   "source": []
  },
  {
   "cell_type": "code",
   "execution_count": null,
   "id": "9709691a-cf42-44f2-aaaf-b3c403a02984",
   "metadata": {},
   "outputs": [],
   "source": []
  },
  {
   "cell_type": "code",
   "execution_count": null,
   "id": "05bb724c-d5eb-45eb-96ef-652d828cf507",
   "metadata": {},
   "outputs": [],
   "source": []
  }
 ],
 "metadata": {
  "kernelspec": {
   "display_name": "Django Shell-Plus",
   "language": "python",
   "name": "django_extensions"
  },
  "language_info": {
   "codemirror_mode": {
    "name": "ipython",
    "version": 3
   },
   "file_extension": ".py",
   "mimetype": "text/x-python",
   "name": "python",
   "nbconvert_exporter": "python",
   "pygments_lexer": "ipython3",
   "version": "3.12.3"
  }
 },
 "nbformat": 4,
 "nbformat_minor": 5
}
